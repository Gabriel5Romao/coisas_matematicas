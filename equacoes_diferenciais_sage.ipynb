{
 "cells": [
  {
   "cell_type": "markdown",
   "metadata": {
    "slideshow": {
     "slide_type": "slide"
    }
   },
   "source": [
    "<div style=\"margin-left:3vw;text-align:center\" > <img src=\"https://raw.githubusercontent.com/sagemath/artwork/dc51186a48f46ac9ff29e453491b8daf4c52ca15/sagemath/stickermule/sage-squared.svg\" alt=\"SageMath Logo\" style=\"width:100px;float:right\"/> \n",
    "\n",
    "[SageMath](https://sagemath.org/)\n",
    "\n",
    "    \n",
    "[SageMath Browser](https://sagecell.sagemath.org/?z=eJy9Vt1u2zYUvi_Qd-C0i5IuXchudhEDGtAA2zAMKIpk6I2mCox0FBOTRI2kmrhBXqa7GPocfrEdSrIsKU7jBsN8QUvUOd_5-J0fSRaV0pZoeP7s-bMUMhKba2mTNbVwY1fGat7ex5nSgbfw2PxHgrsrZ07w164abK1LcnFONbwy9SX1wjgKf4tCf356ehp53PnQPRJrN1wMxtgkdCzLFG72BJrblSztlMrqgeDZLvpt43p3bPwUjMo_QkVTWF2c8xQqQP_Sxh-FluIyhxVeHNDjFy2qtUxMz8fUuY0LsGuVkmAHi6gHILlZq-vONvhd18ATVVotL2OVQrPBWlSZjYHDRUSCgHgNkJWqVFkltMCHoI3XUblHp_Ei3nvntP1n-7ciqTLkndDbz2iglfFaR8cKdXxDkHrdGl6BFjm5vX-EO5IKAn_VHeD2y4p4bAAzJuBHbBTiHeSKFNsvVqVIBsjtlO_dDszqzeBYLnd4FJfGbxOY7SnATQKVJW-V_bWocijQD9KftFb6vwr0UDYrRAyrXFk67DcuZ0ufcTo_mVWSu4UhQI6VpoUsL1GvH1goI74pZBnMXzujTSFuAnfFCFYkkUSWRIvyCqjPT1h0oEkb3U1d0IrxTF4Z-QkCesK4MBUkNtaumIIXoraqwMvkRd8e11qV5k-6Wbjm2Czd6vproINrV0awIy7OOwFxE3N8i399GkdkUrA0DDcLxIt4mMosQ3yOrezkRi_sTt7uLse7UdTzwrJHnnUudPyV9LBRdz7alg_kzVyLqgLX1bu8OUotJuM-m06kzr7nulaFuoISVG2OITsw_3bGZH6sNCPWg5g71m4IuBGDnDFfj8jbFhna9aU9nuvHSsAXqCfjO5mfBLF0EIMXDGpkrCitoZPK5ZXKZeDjn8VV6CTwdyfqfVzLjhqqaThHaN90Dublgg3GR-_-ylVCmVKsisyL33TvJo-xvS3OeAxNvguIP0D4CsrZFKWT39Y4zmjv1AuAosUFFkh-xPl54x78LHLTZ_eoE7c9PzjhvUdnk0fDFfE2pSqkyGNXvQun-k6yBD1mE-YfkoZVco9RdBBvucc7exJePz-aETohy8iMwAfctlNYNkuUoSjszLIuz0HgE0BxyR_dbHk64MtDzkv2sK-RZefbf1006R6ksdL4yUUfaRlXMK5cJvXXiuSq7vv_5_cvSrF21w==&lang=sage&interacts=eJyLjgUAARUAuQ==)\n",
    "\n",
    "    \n",
    "[Link do Arquivo no GitHub](https://github.com/Gabriel5Romao/coisas_matematicas/blob/main/equacoes_diferenciais_sage.ipynb)\n",
    "    \n",
    "</div>
   ]
  },
  {
   "cell_type": "markdown",
   "metadata": {
    "slideshow": {
     "slide_type": "slide"
    }
   },
   "source": [
    "## Resolução de Equações Diferenciais Utilizando SageMath\n",
    "\n",
    "Seja $y$ uma função de $t$, e uma equação diferencial (1) definida na seguinte forma:\n",
    "\n",
    "$$\\begin{equation}\n",
    "y''(t) + p(t)y' + q(t)y = g(t)\n",
    "\\end{equation}$$\n",
    "\n",
    "Para que o sage reconheça uma derivada, uma função e igualdade, devemos utilizar de funções já embutidas. Segue a instrução para resolução de uma E.D.O.\n",
    "\n",
    "1. Defina as variáveis utilizando `var(\"x1,x2,x3,...\")` onde `x1,x2,x3,...` é cada uma das variáveis que você irá utilizar. Defina também as variáveis independentes.\n",
    "2. Se y é função de t, então escreva `y = function('y')(t)`\n",
    "3. Para derivar, usamos a função do Sage, `diff(função,variável,opcional:ordem_da_derivada)`\n",
    "4. Uma boa prática é guardar a equação diferencial em uma variável.\n",
    "5. Para resolver a equação diferencial utilize a função `desolve(equação_diferencial,variável_dependente,opcional:show_method=True)`"
   ]
  },
  {
   "cell_type": "markdown",
   "metadata": {
    "slideshow": {
     "slide_type": "subslide"
    }
   },
   "source": [
    "## Observações adicionais\n",
    "\n",
    "Com o objetivo de fazer também o gráfico. Foi criada função `desolvep` que é utilizada da mesma maneira que a função `desolve`. Nela tem um código RegEx, que faz a substituição das constantes por 1, para fazer a plotagem.\n",
    "\n",
    "Para auxiliar com a aplicação e estudo do método de variação dos parâmetros e coeficientes a se determinar, foram introduzidas as funções `wronsk`,`particular_solve`, `homogeneous_solve`, `solutions_set`, `gen_model`.\n",
    "\n",
    "Utilize a função `show` para tornar a saída mais legível. Use `show(termo)`"
   ]
  },
  {
   "cell_type": "code",
   "execution_count": 1,
   "metadata": {
    "slideshow": {
     "slide_type": "skip"
    }
   },
   "outputs": [],
   "source": [
    "import re\n",
    "\n",
    "def _switch(text:str,switch_for:str=\"1\")-> str:\n",
    "    \"\"\"\n",
    "    Function to switch the constants in a result by a given number.\n",
    "    Parameters:\n",
    "        text: str of the discussion.\n",
    "        switch_for: the given number of type str.\n",
    "    Output:\n",
    "        String which the constants is equal the given number.\n",
    "    \"\"\"\n",
    "    \n",
    "    return SR(re.sub(\"[_][K][0-999]\", str(switch_for), str(text)))\n",
    "\n",
    "def _switch_index(text:str,index:int,switch_for:float=\"1\") -> SR:\n",
    "    \"\"\"\n",
    "    Function to switch one of the constants in a result by a given number.\n",
    "    Parameters:\n",
    "        text: str of the discussion.\n",
    "        switch_for: the given number of type str.\n",
    "    Output:\n",
    "         Symbolic Ring which the constants is equal the given number.\n",
    "    \"\"\"\n",
    "    \n",
    "    return SR(re.sub(f\"[_][K][{index}]\", str(switch_for), str(text)))"
   ]
  },
  {
   "cell_type": "code",
   "execution_count": 2,
   "metadata": {
    "slideshow": {
     "slide_type": "slide"
    }
   },
   "outputs": [],
   "source": [
    "def desolvep(de:SR,dependent_variable:var,switch_for:str=\"1\")-> Graphics:\n",
    "    \"\"\"\n",
    "    Function which uses the built-in desolve sage function. Added the show method to print the result of desolve and\n",
    "    a simple plot to visualize the result.\n",
    "    Parameters:\n",
    "        de: A Symbolyc Ring which represents the differential equation.\n",
    "        dependent_variable: result in function fo the variable dependent_variable.\n",
    "        switch_for: the given number of type str.\n",
    "    Output:\n",
    "        A graphics 2d object\n",
    "    \"\"\"\n",
    "    \n",
    "    result_method = desolve(de,dependent_variable,show_method=True,contrib_ode=True) \n",
    "    if result_method[1] == \"variationofparameters\":\n",
    "        result_method[1] = \"Variação dos Parâmetros\"\n",
    "    show(f\"A solução geral {dependent_variable} da equação é: \")\n",
    "    show(result_method[0])\n",
    "    show(f\"Pelo método de {result_method[1]}\")\n",
    "    try:\n",
    "        text = str(desolve(de,dependent_variable,show_method=True)[0])\n",
    "    except NotImplementedError:\n",
    "        text = str(desolve(de,dependent_variable,show_method=True)[0],contrib_ode=True)\n",
    "    p = [plot(_switch(text,i*20),(-10*pi,10*pi),color=rainbow(5)[i],ymin=-7*pi,ymax=7*pi) for i in range(0,4)]\n",
    "    \n",
    "    return show(sum(p),figsize=(4),aspect_ratio='automatic')"
   ]
  },
  {
   "cell_type": "code",
   "execution_count": 3,
   "metadata": {
    "slideshow": {
     "slide_type": "subslide"
    }
   },
   "outputs": [],
   "source": [
    "def wronsk(y1:SR,y2:SR,independent_var:str) -> SR:\n",
    "    \"\"\"\n",
    "    Return the Wronsk's Determinant of the solutions y1 and y2 of a ODE.\n",
    "    Parameters:\n",
    "        y1: A SR, which is one of the solutions da ODE.\n",
    "        y2: A SR, which is one of the solutions da ODE.\n",
    "        independent_var: A str which is the variable of the solutions or the problem\n",
    "    Output:\n",
    "        A SR which represents the Wronsk's determinant\n",
    "    \"\"\"\n",
    "    \n",
    "    var(f\"{var}\")\n",
    "    \n",
    "    return det([[y1,y2],[diff(y1,SR(str(var))),diff(y2,SR(str(var)))]])"
   ]
  },
  {
   "cell_type": "code",
   "execution_count": 4,
   "metadata": {
    "slideshow": {
     "slide_type": "subslide"
    }
   },
   "outputs": [],
   "source": [
    "def particular_solve(de:SR,dependent_variable:var) -> SR:\n",
    "    \"\"\"\n",
    "    A function which return the particular solution of a differential equation\n",
    "\n",
    "    Parameters:\n",
    "        de : a differential equation\n",
    "        dependent_variable : the dependent variable of the differential equation\n",
    "\n",
    "    Output:\n",
    "        Symbolic Ring which representate the particular solution\n",
    "    \"\"\"\n",
    "    \n",
    "    result = desolve(de,dependent_variable,contrib_ode=True)\n",
    "    swapped = SR(_switch(str(result),0))\n",
    "    \n",
    "    return swapped"
   ]
  },
  {
   "cell_type": "code",
   "execution_count": 5,
   "metadata": {
    "slideshow": {
     "slide_type": "subslide"
    }
   },
   "outputs": [],
   "source": [
    "def homogeneous_solve(de:SR,dependent_variable:var) -> SR:\n",
    "    \"\"\"\n",
    "    A function which return the homogeneous solution of a differential equation\n",
    "\n",
    "    Parameters:\n",
    "        de : a differential equation\n",
    "        dependent_variable : the dependent variable of the differential equation\n",
    "\n",
    "    Output:\n",
    "        Symbolic Ring which representate the homogeneous solution of a differential equation\n",
    "    \"\"\"\n",
    "    \n",
    "    return desolve(de,dependent_variable,contrib_ode=True) - particular_solve(de,dependent_variable)"
   ]
  },
  {
   "cell_type": "code",
   "execution_count": 6,
   "metadata": {
    "slideshow": {
     "slide_type": "subslide"
    }
   },
   "outputs": [],
   "source": [
    "def solutions_set(de:SR,dependent_variable:var) -> SR:\n",
    "    \"\"\"\n",
    "    A function which return the fundamental solutions set of a homogeneous differential equation\n",
    "\n",
    "    Parameters:\n",
    "        de : a differential equation\n",
    "        dependent_variable : the dependent variable of the differential equation\n",
    "\n",
    "    Output:\n",
    "        Symbolic Ring which representate the fundamental solutions set of a differential equation\n",
    "\n",
    "    \"\"\"\n",
    "    \n",
    "    return set((_switch(_switch_index(homogeneous_solve(de,dependent_variable),1,0)),switch(switch_index(homogeneous_solve(de,dependent_variable),2,0))))"
   ]
  },
  {
   "cell_type": "code",
   "execution_count": 7,
   "metadata": {
    "slideshow": {
     "slide_type": "skip"
    }
   },
   "outputs": [],
   "source": [
    "def _constants(poli:float=0,pot:float=0,arc:float=0) -> tuple:\n",
    "    \n",
    "    \"\"\"\n",
    "    A function to show the used constants on gen_model. Just to print the constants, so you can copy to another function. Return a tuple with the constants.\n",
    "    \n",
    "    Parameters:\n",
    "        poli: the polynomial degree\n",
    "        pot: the exponential factor\n",
    "        arc: the arc factor, if the function is a trigonometric\n",
    "        \n",
    "    Output:\n",
    "        A tuple with the used constants on the gen_model function.\n",
    "    \"\"\"\n",
    "    \n",
    "    constants = []\n",
    "    for index in range(poli+1):\n",
    "        constants.append(SR(f\"_A{index}\"))\n",
    "        if arc != 0:\n",
    "            constants.append(SR(f\"_B{index}\"))\n",
    "            \n",
    "    return tuple(constants)"
   ]
  },
  {
   "cell_type": "code",
   "execution_count": 8,
   "metadata": {
    "slideshow": {
     "slide_type": "subslide"
    }
   },
   "outputs": [],
   "source": [
    "def gen_model(independent_var:var,poli:float=0,pot:float=0,arc:float=0,const:bool=False)-> SR:\n",
    "    \"\"\"\n",
    "    A function to show the approximate model which you needs to use to solve a differential equation by the indeterminated coeficients \n",
    "    \n",
    "    Parameters:\n",
    "        independent_var: the independent_var of the differential equation\n",
    "        poli: the polynomial degree\n",
    "        pot: the exponential factor\n",
    "        arc: the arc factor, if the function is a trigonometric\n",
    "        const: explicit if you need to know the constants used explicitly\n",
    "        \n",
    "    Output:\n",
    "        A symbolic ring which representate the model of solution for a differential equation.\n",
    "        \n",
    "    \"\"\"\n",
    "    \n",
    "    for index in range(poli+1):\n",
    "        var(f\"_A{index}\")\n",
    "        var(f\"_B{index}\")\n",
    "    \n",
    "    polynomial_part1 = [SR(f\"_A{c}\")*independent_var^c for c in range(poli+1)]\n",
    "    polynomial_part2 = [SR(f\"_B{c}\")*independent_var^c for c in range(poli+1)]\n",
    "    result = sum(polynomial_part1) * e^(pot*independent_var)*cos(arc*t) if arc==0 else \\\n",
    "    sum(polynomial_part1) * e^(pot*independent_var)*cos(arc*t) + sum(polynomial_part2)* e^(pot*independent_var)*sin(arc*t)\n",
    "    if const:\n",
    "        print(_constants(independent_var,poli,pot,arc))\n",
    "        \n",
    "    return result"
   ]
  },
  {
   "cell_type": "markdown",
   "metadata": {
    "slideshow": {
     "slide_type": "slide"
    }
   },
   "source": [
    "**EX:** Encontre a solução geral da equação $y'' + y' = 2 +t^2$"
   ]
  },
  {
   "cell_type": "code",
   "execution_count": 9,
   "metadata": {
    "slideshow": {
     "slide_type": "fragment"
    }
   },
   "outputs": [],
   "source": [
    "var(\"y,t\") # Declaração de Variáveis. t é suficiente.\n",
    "y = function('y')(t)  # Reconheça y como função de t\n",
    "d1 = diff(y,t)  # Derivada de y com relação a t\n",
    "d2 = diff(d1,t)  # Derivada de y com relação a t de ordem 2\n"
   ]
  },
  {
   "cell_type": "code",
   "execution_count": 10,
   "metadata": {
    "scrolled": true,
    "slideshow": {
     "slide_type": "fragment"
    }
   },
   "outputs": [
    {
     "data": {
      "text/plain": [
       "1/3*t^3 - t^2 + _K2*e^(-t) + _K1 + 4*t - 4"
      ]
     },
     "execution_count": 10,
     "metadata": {},
     "output_type": "execute_result"
    }
   ],
   "source": [
    "de = d2 + d1 == 2 + t^2  # Armazenando a E.D.O. em uma variável\n",
    "desolve(de,y)  # Resolve a E.D.O."
   ]
  },
  {
   "cell_type": "code",
   "execution_count": 11,
   "metadata": {
    "slideshow": {
     "slide_type": "subslide"
    }
   },
   "outputs": [
    {
     "data": {
      "text/html": [
       "<html><script type=\"math/tex; mode=display\">\\newcommand{\\Bold}[1]{\\mathbf{#1}}\\verb|A|\\phantom{\\verb!x!}\\verb|solução|\\phantom{\\verb!x!}\\verb|geral|\\phantom{\\verb!x!}\\verb|y(t)|\\phantom{\\verb!x!}\\verb|da|\\phantom{\\verb!x!}\\verb|equação|\\phantom{\\verb!x!}\\verb|é:|</script></html>"
      ],
      "text/latex": [
       "\\begin{math}\n",
       "\\newcommand{\\Bold}[1]{\\mathbf{#1}}\\verb|A|\\phantom{\\verb!x!}\\verb|solução|\\phantom{\\verb!x!}\\verb|geral|\\phantom{\\verb!x!}\\verb|y(t)|\\phantom{\\verb!x!}\\verb|da|\\phantom{\\verb!x!}\\verb|equação|\\phantom{\\verb!x!}\\verb|é:|\n",
       "\\end{math}"
      ],
      "text/plain": [
       "'A solução geral y(t) da equação é: '"
      ]
     },
     "metadata": {},
     "output_type": "display_data"
    },
    {
     "data": {
      "text/html": [
       "<html><script type=\"math/tex; mode=display\">\\newcommand{\\Bold}[1]{\\mathbf{#1}}\\frac{1}{3} \\, t^{3} - t^{2} + K_{2} e^{\\left(-t\\right)} + K_{1} + 4 \\, t - 4</script></html>"
      ],
      "text/latex": [
       "\\begin{math}\n",
       "\\newcommand{\\Bold}[1]{\\mathbf{#1}}\\frac{1}{3} \\, t^{3} - t^{2} + K_{2} e^{\\left(-t\\right)} + K_{1} + 4 \\, t - 4\n",
       "\\end{math}"
      ],
      "text/plain": [
       "1/3*t^3 - t^2 + _K2*e^(-t) + _K1 + 4*t - 4"
      ]
     },
     "metadata": {},
     "output_type": "display_data"
    },
    {
     "data": {
      "text/html": [
       "<html><script type=\"math/tex; mode=display\">\\newcommand{\\Bold}[1]{\\mathbf{#1}}\\verb|Pelo|\\phantom{\\verb!x!}\\verb|método|\\phantom{\\verb!x!}\\verb|de|\\phantom{\\verb!x!}\\verb|Variação|\\phantom{\\verb!x!}\\verb|dos|\\phantom{\\verb!x!}\\verb|Parâmetros|</script></html>"
      ],
      "text/latex": [
       "\\begin{math}\n",
       "\\newcommand{\\Bold}[1]{\\mathbf{#1}}\\verb|Pelo|\\phantom{\\verb!x!}\\verb|método|\\phantom{\\verb!x!}\\verb|de|\\phantom{\\verb!x!}\\verb|Variação|\\phantom{\\verb!x!}\\verb|dos|\\phantom{\\verb!x!}\\verb|Parâmetros|\n",
       "\\end{math}"
      ],
      "text/plain": [
       "'Pelo método de Variação dos Parâmetros'"
      ]
     },
     "metadata": {},
     "output_type": "display_data"
    },
    {
     "data": {
      "image/png": "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\n",
      "text/plain": [
       "Graphics object consisting of 4 graphics primitives"
      ]
     },
     "metadata": {},
     "output_type": "display_data"
    }
   ],
   "source": [
    "desolvep(de,y)  # Função customizada que resolve a E.D.O."
   ]
  },
  {
   "cell_type": "markdown",
   "metadata": {
    "slideshow": {
     "slide_type": "subslide"
    }
   },
   "source": [
    "Para se trabalhar com o método de coeficientes a se determinar, precisamos sempre conhecer um modelo. A função `gen_solve` informando a variável independente, o grau do polinômio (`poli`), o expoente (`pot`) e o arco (`arc`), gera um modelo para você trabalhar esse método.\n",
    "\n",
    "É possível tomar o modelo e usar as funções de derivada no sage para calcular derivada do modelo."
   ]
  },
  {
   "cell_type": "code",
   "execution_count": 12,
   "metadata": {
    "slideshow": {
     "slide_type": "fragment"
    }
   },
   "outputs": [
    {
     "data": {
      "text/plain": [
       "_A2*t^2 + _A1*t + _A0"
      ]
     },
     "execution_count": 12,
     "metadata": {},
     "output_type": "execute_result"
    }
   ],
   "source": [
    "gen_model(t,poli=2)  # Gerando o modelo para 2 + t^2"
   ]
  },
  {
   "cell_type": "code",
   "execution_count": 13,
   "metadata": {
    "slideshow": {
     "slide_type": "fragment"
    }
   },
   "outputs": [
    {
     "name": "stdout",
     "output_type": "stream",
     "text": [
      "_A2*t^2 + _A1*t + _A0\n",
      "2*_A2*t + _A1\n",
      "2*_A2\n"
     ]
    }
   ],
   "source": [
    "model = gen_model(t,poli=2)  # Guardando o modelo em uma variável\n",
    "d1model = diff(model,t)  # Derivada do modelo\n",
    "d2model = diff(model,t,2)  # Derivada segunda do modelo\n",
    "\n",
    "# Exibindo na tela os modelos\n",
    "print(model)\n",
    "print(d1model)\n",
    "print(d2model)"
   ]
  },
  {
   "cell_type": "markdown",
   "metadata": {
    "slideshow": {
     "slide_type": "subslide"
    }
   },
   "source": [
    "Vale lembrar que nem todo chute é válido. Se o modelo já for um múltiplo escalar de uma das soluções, então o modelo não é válido. Deve-se multiplicar o modelo pela variável independente, e se isso não for o suficente você multiplica novamente pela variável independente.\n",
    "\n",
    "Para isso, esse algoritmo dispões das funções `solutions_set` passando a equação e a variável dependente e da função `wronsk` passando as duas soluções ou chutes iniciais e a variável independente."
   ]
  },
  {
   "cell_type": "markdown",
   "metadata": {
    "slideshow": {
     "slide_type": "slide"
    }
   },
   "source": [
    "**EX:** Resolva $y'' + 2y' + y = (2+t)e^{-t}$"
   ]
  },
  {
   "cell_type": "code",
   "execution_count": 14,
   "metadata": {
    "slideshow": {
     "slide_type": "subslide"
    }
   },
   "outputs": [
    {
     "data": {
      "text/html": [
       "<html><script type=\"math/tex; mode=display\">\\newcommand{\\Bold}[1]{\\mathbf{#1}}\\verb|A|\\phantom{\\verb!x!}\\verb|solução|\\phantom{\\verb!x!}\\verb|geral|\\phantom{\\verb!x!}\\verb|y(t)|\\phantom{\\verb!x!}\\verb|da|\\phantom{\\verb!x!}\\verb|equação|\\phantom{\\verb!x!}\\verb|é:|</script></html>"
      ],
      "text/latex": [
       "\\begin{math}\n",
       "\\newcommand{\\Bold}[1]{\\mathbf{#1}}\\verb|A|\\phantom{\\verb!x!}\\verb|solução|\\phantom{\\verb!x!}\\verb|geral|\\phantom{\\verb!x!}\\verb|y(t)|\\phantom{\\verb!x!}\\verb|da|\\phantom{\\verb!x!}\\verb|equação|\\phantom{\\verb!x!}\\verb|é:|\n",
       "\\end{math}"
      ],
      "text/plain": [
       "'A solução geral y(t) da equação é: '"
      ]
     },
     "metadata": {},
     "output_type": "display_data"
    },
    {
     "data": {
      "text/html": [
       "<html><script type=\"math/tex; mode=display\">\\newcommand{\\Bold}[1]{\\mathbf{#1}}\\frac{1}{6} \\, {\\left(t^{3} + 6 \\, t^{2}\\right)} e^{\\left(-t\\right)} + {\\left(K_{2} t + K_{1}\\right)} e^{\\left(-t\\right)}</script></html>"
      ],
      "text/latex": [
       "\\begin{math}\n",
       "\\newcommand{\\Bold}[1]{\\mathbf{#1}}\\frac{1}{6} \\, {\\left(t^{3} + 6 \\, t^{2}\\right)} e^{\\left(-t\\right)} + {\\left(K_{2} t + K_{1}\\right)} e^{\\left(-t\\right)}\n",
       "\\end{math}"
      ],
      "text/plain": [
       "1/6*(t^3 + 6*t^2)*e^(-t) + (_K2*t + _K1)*e^(-t)"
      ]
     },
     "metadata": {},
     "output_type": "display_data"
    },
    {
     "data": {
      "text/html": [
       "<html><script type=\"math/tex; mode=display\">\\newcommand{\\Bold}[1]{\\mathbf{#1}}\\verb|Pelo|\\phantom{\\verb!x!}\\verb|método|\\phantom{\\verb!x!}\\verb|de|\\phantom{\\verb!x!}\\verb|Variação|\\phantom{\\verb!x!}\\verb|dos|\\phantom{\\verb!x!}\\verb|Parâmetros|</script></html>"
      ],
      "text/latex": [
       "\\begin{math}\n",
       "\\newcommand{\\Bold}[1]{\\mathbf{#1}}\\verb|Pelo|\\phantom{\\verb!x!}\\verb|método|\\phantom{\\verb!x!}\\verb|de|\\phantom{\\verb!x!}\\verb|Variação|\\phantom{\\verb!x!}\\verb|dos|\\phantom{\\verb!x!}\\verb|Parâmetros|\n",
       "\\end{math}"
      ],
      "text/plain": [
       "'Pelo método de Variação dos Parâmetros'"
      ]
     },
     "metadata": {},
     "output_type": "display_data"
    },
    {
     "data": {
      "image/png": "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\n",
      "text/plain": [
       "Graphics object consisting of 4 graphics primitives"
      ]
     },
     "metadata": {},
     "output_type": "display_data"
    }
   ],
   "source": [
    "de = d2 + 2*d1 + y == (2+t)*e^(-t)\n",
    "desolvep(de,y)"
   ]
  },
  {
   "cell_type": "code",
   "execution_count": 15,
   "metadata": {
    "slideshow": {
     "slide_type": "subslide"
    }
   },
   "outputs": [],
   "source": [
    "# Gerando o modelo"
   ]
  },
  {
   "cell_type": "markdown",
   "metadata": {
    "slideshow": {
     "slide_type": "slide"
    }
   },
   "source": [
    "**EX:** Resolva $y'' +2y'+2y = e^t cos(t)$"
   ]
  },
  {
   "cell_type": "code",
   "execution_count": 16,
   "metadata": {
    "slideshow": {
     "slide_type": "subslide"
    }
   },
   "outputs": [
    {
     "data": {
      "text/html": [
       "<html><script type=\"math/tex; mode=display\">\\newcommand{\\Bold}[1]{\\mathbf{#1}}\\verb|A|\\phantom{\\verb!x!}\\verb|solução|\\phantom{\\verb!x!}\\verb|geral|\\phantom{\\verb!x!}\\verb|y(t)|\\phantom{\\verb!x!}\\verb|da|\\phantom{\\verb!x!}\\verb|equação|\\phantom{\\verb!x!}\\verb|é:|</script></html>"
      ],
      "text/latex": [
       "\\begin{math}\n",
       "\\newcommand{\\Bold}[1]{\\mathbf{#1}}\\verb|A|\\phantom{\\verb!x!}\\verb|solução|\\phantom{\\verb!x!}\\verb|geral|\\phantom{\\verb!x!}\\verb|y(t)|\\phantom{\\verb!x!}\\verb|da|\\phantom{\\verb!x!}\\verb|equação|\\phantom{\\verb!x!}\\verb|é:|\n",
       "\\end{math}"
      ],
      "text/plain": [
       "'A solução geral y(t) da equação é: '"
      ]
     },
     "metadata": {},
     "output_type": "display_data"
    },
    {
     "data": {
      "text/html": [
       "<html><script type=\"math/tex; mode=display\">\\newcommand{\\Bold}[1]{\\mathbf{#1}}{\\left(K_{2} \\cos\\left(t\\right) + K_{1} \\sin\\left(t\\right)\\right)} e^{\\left(-t\\right)} + \\frac{1}{8} \\, \\cos\\left(t\\right) e^{t} + \\frac{1}{8} \\, e^{t} \\sin\\left(t\\right)</script></html>"
      ],
      "text/latex": [
       "\\begin{math}\n",
       "\\newcommand{\\Bold}[1]{\\mathbf{#1}}{\\left(K_{2} \\cos\\left(t\\right) + K_{1} \\sin\\left(t\\right)\\right)} e^{\\left(-t\\right)} + \\frac{1}{8} \\, \\cos\\left(t\\right) e^{t} + \\frac{1}{8} \\, e^{t} \\sin\\left(t\\right)\n",
       "\\end{math}"
      ],
      "text/plain": [
       "(_K2*cos(t) + _K1*sin(t))*e^(-t) + 1/8*cos(t)*e^t + 1/8*e^t*sin(t)"
      ]
     },
     "metadata": {},
     "output_type": "display_data"
    },
    {
     "data": {
      "text/html": [
       "<html><script type=\"math/tex; mode=display\">\\newcommand{\\Bold}[1]{\\mathbf{#1}}\\verb|Pelo|\\phantom{\\verb!x!}\\verb|método|\\phantom{\\verb!x!}\\verb|de|\\phantom{\\verb!x!}\\verb|Variação|\\phantom{\\verb!x!}\\verb|dos|\\phantom{\\verb!x!}\\verb|Parâmetros|</script></html>"
      ],
      "text/latex": [
       "\\begin{math}\n",
       "\\newcommand{\\Bold}[1]{\\mathbf{#1}}\\verb|Pelo|\\phantom{\\verb!x!}\\verb|método|\\phantom{\\verb!x!}\\verb|de|\\phantom{\\verb!x!}\\verb|Variação|\\phantom{\\verb!x!}\\verb|dos|\\phantom{\\verb!x!}\\verb|Parâmetros|\n",
       "\\end{math}"
      ],
      "text/plain": [
       "'Pelo método de Variação dos Parâmetros'"
      ]
     },
     "metadata": {},
     "output_type": "display_data"
    },
    {
     "data": {
      "image/png": "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\n",
      "text/plain": [
       "Graphics object consisting of 4 graphics primitives"
      ]
     },
     "metadata": {},
     "output_type": "display_data"
    }
   ],
   "source": [
    "desolvep(d2+2*d1+2*y==e^(t)*cos(t),y,10000)"
   ]
  },
  {
   "cell_type": "code",
   "execution_count": 17,
   "metadata": {
    "slideshow": {
     "slide_type": "subslide"
    }
   },
   "outputs": [],
   "source": [
    "# Gerando o modelo"
   ]
  }
 ],
 "metadata": {
  "celltoolbar": "Slideshow",
  "kernelspec": {
   "display_name": "SageMath 9.2",
   "language": "sage",
   "name": "sagemath"
  },
  "language_info": {
   "codemirror_mode": {
    "name": "ipython",
    "version": 3
   },
   "file_extension": ".py",
   "mimetype": "text/x-python",
   "name": "python",
   "nbconvert_exporter": "python",
   "pygments_lexer": "ipython3",
   "version": "3.7.7"
  }
 },
 "nbformat": 4,
 "nbformat_minor": 4
}
