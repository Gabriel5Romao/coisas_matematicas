{
 "cells": [
  {
   "cell_type": "markdown",
   "metadata": {
    "slideshow": {
     "slide_type": "slide"
    }
   },
   "source": [
    "<div style=\"margin-left:3vw;text-align:center\" > <img src=\"https://raw.githubusercontent.com/sagemath/artwork/dc51186a48f46ac9ff29e453491b8daf4c52ca15/sagemath/stickermule/sage-squared.svg\" alt=\"SageMath Logo\" style=\"width:200px\"/> </div>\n",
    "\n",
    "[SageMath](https://sagemath.org/)\n",
    "<br>\n",
    "[SageMath Browser](https://sagecell.sagemath.org/)"
   ]
  },
  {
   "cell_type": "markdown",
   "metadata": {
    "slideshow": {
     "slide_type": "slide"
    }
   },
   "source": [
    "## Resolução de Equações Diferenciais Utilizando SageMath\n",
    "\n",
    "Seja $y$ uma função de $t$, e uma equação diferencial (1) definida na seguinte forma:\n",
    "\n",
    "$$\\begin{equation}\n",
    "y''(t) + p(t)y' + q(t)y = g(t)\n",
    "\\end{equation}$$\n",
    "\n",
    "Para que o sage reconheça uma derivada, uma função e igualdade, devemos utilizar de funções já embutidas. Segue a instrução para resolução de uma E.D.O.\n",
    "\n",
    "1. Defina as variáveis utilizando `var(\"x1,x2,x3,...\")` onde `x1,x2,x3,...` é cada uma das variáveis que você irá utilizar. Defina também as variáveis independentes.\n",
    "2. Se y é função de t, então escreva `y = function('y')(t)`\n",
    "3. Para derivar, usamos a função do Sage, `diff(função,variável,opcional:ordem_da_derivada)`\n",
    "4. Uma boa prática é guardar a equação diferencial em uma variável.\n",
    "5. Para resolver a equação diferencial utilize a função `desolve(equação_diferencial,variável_dependente,opcional:show_method=True)`"
   ]
  },
  {
   "cell_type": "markdown",
   "metadata": {
    "slideshow": {
     "slide_type": "slide"
    }
   },
   "source": [
    "## Observações adicionais\n",
    "\n",
    "Com o objetivo de fazer também o gráfico. Foi criada função `desolvep` que é utilizada da mesma maneira que a função `desolve`. Nela tem um código RegEx, que faz a substituição das constantes por 1, para fazer a plotagem.\n",
    "\n",
    "Para auxiliar com a aplicação e estudo do método de variação dos parâmetros, foi introduzida a função `wronskiano`, `solucao_particular`, `solucao_homogenea`."
   ]
  },
  {
   "cell_type": "code",
   "execution_count": 1,
   "metadata": {
    "slideshow": {
     "slide_type": "subslide"
    }
   },
   "outputs": [],
   "source": [
    "import re\n",
    "\n",
    "def switch(text:str,switch_for=\"1\")-> str:\n",
    "    \"\"\"\n",
    "    Function to switch the constants in a result by a given number.\n",
    "    Parameters:\n",
    "        text: str of the discussion.\n",
    "        switch_for: the given number of type str.\n",
    "    Output:\n",
    "        String which the constants is equal the given number.\n",
    "    \"\"\"\n",
    "    \n",
    "    return SR(re.sub(\"[_][K][0-999]\", str(switch_for), str(text)))\n",
    "\n",
    "def switch_index(text:str,index:int,switch_for=\"1\"):\n",
    "    \"\"\"\n",
    "    Function to switch one of the constants in a result by a given number.\n",
    "    Parameters:\n",
    "        text: str of the discussion.\n",
    "        switch_for: the given number of type str.\n",
    "    Output:\n",
    "         Symbolic Ring which the constants is equal the given number.\n",
    "    \"\"\"\n",
    "    return SR(re.sub(f\"[_][K][{index}]\", str(switch_for), str(text)))"
   ]
  },
  {
   "cell_type": "code",
   "execution_count": 2,
   "metadata": {
    "slideshow": {
     "slide_type": "subslide"
    }
   },
   "outputs": [],
   "source": [
    "def desolvep(de:SR,dependent_variable:var,switch_for=\"1\")-> Graphics:\n",
    "    \"\"\"\n",
    "    Function which uses the built-in desolve sage function. Added the show method to print the result of desolve and\n",
    "    a simple plot to visualize the result.\n",
    "    Parameters:\n",
    "        de: A Symbolyc Ring which represents the differential equation.\n",
    "        dependent_variable: result in function fo the variable dependent_variable.\n",
    "        switch_for: the given number of type str.\n",
    "    Output:\n",
    "        A graphics 2d object\n",
    "    \"\"\"\n",
    "    \n",
    "    result_method = desolve(de,dependent_variable,show_method=True)\n",
    "    if result_method[1] == \"variationofparameters\":\n",
    "        result_method[1] = \"Variação dos Parâmetros\"\n",
    "    show(f\"A solução geral {dependent_variable} da equação é: \")\n",
    "    show(result_method[0])\n",
    "    show(f\"Pelo método de {result_method[1]}\")\n",
    "    try:\n",
    "        text = str(desolve(de,dependent_variable,show_method=True)[0])\n",
    "    except NotImplementedError:\n",
    "        text = str(desolve(de,dependent_variable,show_method=True)[0],contrib_ode=True)\n",
    "    p = [plot(switch(text,i*20),(-4*pi,4*pi),color=rainbow(5)[i],ymin=-3*pi,ymax=3*pi) for i in range(0,4)]\n",
    "    \n",
    "    return show(sum(p),figsize=(4),aspect_ratio='automatic')"
   ]
  },
  {
   "cell_type": "code",
   "execution_count": 3,
   "metadata": {
    "slideshow": {
     "slide_type": "subslide"
    }
   },
   "outputs": [],
   "source": [
    "def wronsk(y1:SR,y2:SR,independent_var:str) -> SR:\n",
    "    \"\"\"\n",
    "    Return the Wronsk's Determinant of the solutions y1 and y2 of a ODE.\n",
    "    Parameters:\n",
    "        y1: A SR, which is one of the solutions da ODE.\n",
    "        y2: A SR, which is one of the solutions da ODE.\n",
    "        independent_var: A str which is the variable of the solutions or the problem\n",
    "    Output:\n",
    "        A SR which represents the Wronsk's determinant\n",
    "    \"\"\"\n",
    "    \n",
    "    var(f\"{var}\")\n",
    "    \n",
    "    return det([[y1,y2],[diff(y1,SR(str(var))),diff(y2,SR(str(var)))]])"
   ]
  },
  {
   "cell_type": "code",
   "execution_count": 4,
   "metadata": {},
   "outputs": [],
   "source": [
    "def particular_solve(de,dependent_variable):\n",
    "    result = desolve(de,dependent_variable,contrib_ode=True)\n",
    "    swapped = switch(str(result),0)\n",
    "    return SR(swapped)"
   ]
  },
  {
   "cell_type": "code",
   "execution_count": 5,
   "metadata": {},
   "outputs": [],
   "source": [
    "def homogeneous_solve(de,dependent_variable):\n",
    "    homogeneous = desolve(de,dependent_variable,contrib_ode=True) - particular_solve(de,dependent_variable)\n",
    "    return homogeneous"
   ]
  },
  {
   "cell_type": "code",
   "execution_count": 6,
   "metadata": {},
   "outputs": [],
   "source": [
    "def solutions_set(de,dependent_variable):\n",
    "    return set((switch(switch_index(homogeneous_solve(de,dependent_variable),1,0)),switch(switch_index(homogeneous_solve(de,dependent_variable),2,0))))"
   ]
  },
  {
   "cell_type": "markdown",
   "metadata": {
    "slideshow": {
     "slide_type": "slide"
    }
   },
   "source": [
    "**EX:** Encontre a solução geral da equação $y'' + y' = 2 +t^2$"
   ]
  },
  {
   "cell_type": "code",
   "execution_count": 7,
   "metadata": {
    "slideshow": {
     "slide_type": "fragment"
    }
   },
   "outputs": [],
   "source": [
    "var(\"y,t\")\n",
    "y = function('y')(t)\n",
    "d1 = diff(y,t)\n",
    "d2 = diff(d1,t)"
   ]
  },
  {
   "cell_type": "code",
   "execution_count": 8,
   "metadata": {
    "scrolled": true,
    "slideshow": {
     "slide_type": "fragment"
    }
   },
   "outputs": [
    {
     "data": {
      "text/plain": [
       "1/3*t^3 - t^2 + _K2*e^(-t) + _K1 + 4*t - 4"
      ]
     },
     "execution_count": 8,
     "metadata": {},
     "output_type": "execute_result"
    }
   ],
   "source": [
    "de = d2 + d1 == 2 + t^2\n",
    "desolve(de,y)"
   ]
  },
  {
   "cell_type": "code",
   "execution_count": 9,
   "metadata": {
    "slideshow": {
     "slide_type": "subslide"
    }
   },
   "outputs": [
    {
     "data": {
      "text/html": [
       "<html><script type=\"math/tex; mode=display\">\\newcommand{\\Bold}[1]{\\mathbf{#1}}\\verb|A|\\phantom{\\verb!x!}\\verb|solução|\\phantom{\\verb!x!}\\verb|geral|\\phantom{\\verb!x!}\\verb|y(t)|\\phantom{\\verb!x!}\\verb|da|\\phantom{\\verb!x!}\\verb|equação|\\phantom{\\verb!x!}\\verb|é:|</script></html>"
      ],
      "text/latex": [
       "\\begin{math}\n",
       "\\newcommand{\\Bold}[1]{\\mathbf{#1}}\\verb|A|\\phantom{\\verb!x!}\\verb|solução|\\phantom{\\verb!x!}\\verb|geral|\\phantom{\\verb!x!}\\verb|y(t)|\\phantom{\\verb!x!}\\verb|da|\\phantom{\\verb!x!}\\verb|equação|\\phantom{\\verb!x!}\\verb|é:|\n",
       "\\end{math}"
      ],
      "text/plain": [
       "'A solução geral y(t) da equação é: '"
      ]
     },
     "metadata": {},
     "output_type": "display_data"
    },
    {
     "data": {
      "text/html": [
       "<html><script type=\"math/tex; mode=display\">\\newcommand{\\Bold}[1]{\\mathbf{#1}}\\frac{1}{3} \\, t^{3} - t^{2} + K_{2} e^{\\left(-t\\right)} + K_{1} + 4 \\, t - 4</script></html>"
      ],
      "text/latex": [
       "\\begin{math}\n",
       "\\newcommand{\\Bold}[1]{\\mathbf{#1}}\\frac{1}{3} \\, t^{3} - t^{2} + K_{2} e^{\\left(-t\\right)} + K_{1} + 4 \\, t - 4\n",
       "\\end{math}"
      ],
      "text/plain": [
       "1/3*t^3 - t^2 + _K2*e^(-t) + _K1 + 4*t - 4"
      ]
     },
     "metadata": {},
     "output_type": "display_data"
    },
    {
     "data": {
      "text/html": [
       "<html><script type=\"math/tex; mode=display\">\\newcommand{\\Bold}[1]{\\mathbf{#1}}\\verb|Pelo|\\phantom{\\verb!x!}\\verb|método|\\phantom{\\verb!x!}\\verb|de|\\phantom{\\verb!x!}\\verb|Variação|\\phantom{\\verb!x!}\\verb|dos|\\phantom{\\verb!x!}\\verb|Parâmetros|</script></html>"
      ],
      "text/latex": [
       "\\begin{math}\n",
       "\\newcommand{\\Bold}[1]{\\mathbf{#1}}\\verb|Pelo|\\phantom{\\verb!x!}\\verb|método|\\phantom{\\verb!x!}\\verb|de|\\phantom{\\verb!x!}\\verb|Variação|\\phantom{\\verb!x!}\\verb|dos|\\phantom{\\verb!x!}\\verb|Parâmetros|\n",
       "\\end{math}"
      ],
      "text/plain": [
       "'Pelo método de Variação dos Parâmetros'"
      ]
     },
     "metadata": {},
     "output_type": "display_data"
    },
    {
     "data": {
      "image/png": "[encoded data removed]",
      "text/plain": [
       "Graphics object consisting of 4 graphics primitives"
      ]
     },
     "metadata": {},
     "output_type": "display_data"
    }
   ],
   "source": [
    "desolvep(de,y)"
   ]
  },
  {
   "cell_type": "markdown",
   "metadata": {
    "slideshow": {
     "slide_type": "slide"
    }
   },
   "source": [
    "**EX:** Resolva $y'' + 2y' + y = (2+t)e^{-t}$"
   ]
  },
  {
   "cell_type": "code",
   "execution_count": 10,
   "metadata": {
    "slideshow": {
     "slide_type": "subslide"
    }
   },
   "outputs": [
    {
     "data": {
      "text/html": [
       "<html><script type=\"math/tex; mode=display\">\\newcommand{\\Bold}[1]{\\mathbf{#1}}\\verb|A|\\phantom{\\verb!x!}\\verb|solução|\\phantom{\\verb!x!}\\verb|geral|\\phantom{\\verb!x!}\\verb|y(t)|\\phantom{\\verb!x!}\\verb|da|\\phantom{\\verb!x!}\\verb|equação|\\phantom{\\verb!x!}\\verb|é:|</script></html>"
      ],
      "text/latex": [
       "\\begin{math}\n",
       "\\newcommand{\\Bold}[1]{\\mathbf{#1}}\\verb|A|\\phantom{\\verb!x!}\\verb|solução|\\phantom{\\verb!x!}\\verb|geral|\\phantom{\\verb!x!}\\verb|y(t)|\\phantom{\\verb!x!}\\verb|da|\\phantom{\\verb!x!}\\verb|equação|\\phantom{\\verb!x!}\\verb|é:|\n",
       "\\end{math}"
      ],
      "text/plain": [
       "'A solução geral y(t) da equação é: '"
      ]
     },
     "metadata": {},
     "output_type": "display_data"
    },
    {
     "data": {
      "text/html": [
       "<html><script type=\"math/tex; mode=display\">\\newcommand{\\Bold}[1]{\\mathbf{#1}}\\frac{1}{6} \\, {\\left(t^{3} + 6 \\, t^{2}\\right)} e^{\\left(-t\\right)} + {\\left(K_{2} t + K_{1}\\right)} e^{\\left(-t\\right)}</script></html>"
      ],
      "text/latex": [
       "\\begin{math}\n",
       "\\newcommand{\\Bold}[1]{\\mathbf{#1}}\\frac{1}{6} \\, {\\left(t^{3} + 6 \\, t^{2}\\right)} e^{\\left(-t\\right)} + {\\left(K_{2} t + K_{1}\\right)} e^{\\left(-t\\right)}\n",
       "\\end{math}"
      ],
      "text/plain": [
       "1/6*(t^3 + 6*t^2)*e^(-t) + (_K2*t + _K1)*e^(-t)"
      ]
     },
     "metadata": {},
     "output_type": "display_data"
    },
    {
     "data": {
      "text/html": [
       "<html><script type=\"math/tex; mode=display\">\\newcommand{\\Bold}[1]{\\mathbf{#1}}\\verb|Pelo|\\phantom{\\verb!x!}\\verb|método|\\phantom{\\verb!x!}\\verb|de|\\phantom{\\verb!x!}\\verb|Variação|\\phantom{\\verb!x!}\\verb|dos|\\phantom{\\verb!x!}\\verb|Parâmetros|</script></html>"
      ],
      "text/latex": [
       "\\begin{math}\n",
       "\\newcommand{\\Bold}[1]{\\mathbf{#1}}\\verb|Pelo|\\phantom{\\verb!x!}\\verb|método|\\phantom{\\verb!x!}\\verb|de|\\phantom{\\verb!x!}\\verb|Variação|\\phantom{\\verb!x!}\\verb|dos|\\phantom{\\verb!x!}\\verb|Parâmetros|\n",
       "\\end{math}"
      ],
      "text/plain": [
       "'Pelo método de Variação dos Parâmetros'"
      ]
     },
     "metadata": {},
     "output_type": "display_data"
    },
    {
     "data": {
      "image/png": "[encoded data removed]",
      "text/plain": [
       "Graphics object consisting of 4 graphics primitives"
      ]
     },
     "metadata": {},
     "output_type": "display_data"
    }
   ],
   "source": [
    "de = d2 + 2*d1 + y == (2+t)*e^(-t)\n",
    "desolvep(de,y)"
   ]
  },
  {
   "cell_type": "markdown",
   "metadata": {
    "slideshow": {
     "slide_type": "slide"
    }
   },
   "source": [
    "**EX:** Resolva $y'' +2y'+2y = e^t cos(t)$"
   ]
  },
  {
   "cell_type": "code",
   "execution_count": 11,
   "metadata": {
    "slideshow": {
     "slide_type": "subslide"
    }
   },
   "outputs": [
    {
     "data": {
      "text/html": [
       "<html><script type=\"math/tex; mode=display\">\\newcommand{\\Bold}[1]{\\mathbf{#1}}\\verb|A|\\phantom{\\verb!x!}\\verb|solução|\\phantom{\\verb!x!}\\verb|geral|\\phantom{\\verb!x!}\\verb|y(t)|\\phantom{\\verb!x!}\\verb|da|\\phantom{\\verb!x!}\\verb|equação|\\phantom{\\verb!x!}\\verb|é:|</script></html>"
      ],
      "text/latex": [
       "\\begin{math}\n",
       "\\newcommand{\\Bold}[1]{\\mathbf{#1}}\\verb|A|\\phantom{\\verb!x!}\\verb|solução|\\phantom{\\verb!x!}\\verb|geral|\\phantom{\\verb!x!}\\verb|y(t)|\\phantom{\\verb!x!}\\verb|da|\\phantom{\\verb!x!}\\verb|equação|\\phantom{\\verb!x!}\\verb|é:|\n",
       "\\end{math}"
      ],
      "text/plain": [
       "'A solução geral y(t) da equação é: '"
      ]
     },
     "metadata": {},
     "output_type": "display_data"
    },
    {
     "data": {
      "text/html": [
       "<html><script type=\"math/tex; mode=display\">\\newcommand{\\Bold}[1]{\\mathbf{#1}}{\\left(K_{2} \\cos\\left(t\\right) + K_{1} \\sin\\left(t\\right)\\right)} e^{\\left(-t\\right)} + \\frac{1}{8} \\, \\cos\\left(t\\right) e^{t} + \\frac{1}{8} \\, e^{t} \\sin\\left(t\\right)</script></html>"
      ],
      "text/latex": [
       "\\begin{math}\n",
       "\\newcommand{\\Bold}[1]{\\mathbf{#1}}{\\left(K_{2} \\cos\\left(t\\right) + K_{1} \\sin\\left(t\\right)\\right)} e^{\\left(-t\\right)} + \\frac{1}{8} \\, \\cos\\left(t\\right) e^{t} + \\frac{1}{8} \\, e^{t} \\sin\\left(t\\right)\n",
       "\\end{math}"
      ],
      "text/plain": [
       "(_K2*cos(t) + _K1*sin(t))*e^(-t) + 1/8*cos(t)*e^t + 1/8*e^t*sin(t)"
      ]
     },
     "metadata": {},
     "output_type": "display_data"
    },
    {
     "data": {
      "text/html": [
       "<html><script type=\"math/tex; mode=display\">\\newcommand{\\Bold}[1]{\\mathbf{#1}}\\verb|Pelo|\\phantom{\\verb!x!}\\verb|método|\\phantom{\\verb!x!}\\verb|de|\\phantom{\\verb!x!}\\verb|Variação|\\phantom{\\verb!x!}\\verb|dos|\\phantom{\\verb!x!}\\verb|Parâmetros|</script></html>"
      ],
      "text/latex": [
       "\\begin{math}\n",
       "\\newcommand{\\Bold}[1]{\\mathbf{#1}}\\verb|Pelo|\\phantom{\\verb!x!}\\verb|método|\\phantom{\\verb!x!}\\verb|de|\\phantom{\\verb!x!}\\verb|Variação|\\phantom{\\verb!x!}\\verb|dos|\\phantom{\\verb!x!}\\verb|Parâmetros|\n",
       "\\end{math}"
      ],
      "text/plain": [
       "'Pelo método de Variação dos Parâmetros'"
      ]
     },
     "metadata": {},
     "output_type": "display_data"
    },
    {
     "data": {
      "image/png": "[encoded data removed]",
      "text/plain": [
       "Graphics object consisting of 4 graphics primitives"
      ]
     },
     "metadata": {},
     "output_type": "display_data"
    }
   ],
   "source": [
    "desolvep(d2+2*d1+2*y==e^(t)*cos(t),y,10000)"
   ]
  },
  {
   "cell_type": "code",
   "execution_count": null,
   "metadata": {},
   "outputs": [],
   "source": []
  }
 ],
 "metadata": {
  "celltoolbar": "Slideshow",
  "kernelspec": {
   "display_name": "SageMath 9.2",
   "language": "sage",
   "name": "sagemath"
  },
  "language_info": {
   "codemirror_mode": {
    "name": "ipython",
    "version": 3
   },
   "file_extension": ".py",
   "mimetype": "text/x-python",
   "name": "python",
   "nbconvert_exporter": "python",
   "pygments_lexer": "ipython3",
   "version": "3.7.7"
  }
 },
 "nbformat": 4,
 "nbformat_minor": 4
}
