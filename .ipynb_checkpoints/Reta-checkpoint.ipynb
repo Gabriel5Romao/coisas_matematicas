{
 "cells": [
  {
   "cell_type": "markdown",
   "metadata": {},
   "source": []
  },
  {
   "cell_type": "markdown",
   "metadata": {},
   "source": []
  },
  {
   "cell_type": "code",
   "execution_count": null,
   "metadata": {},
   "outputs": [],
   "source": []
  },
  {
   "cell_type": "code",
   "execution_count": null,
   "metadata": {},
   "outputs": [],
   "source": []
  },
  {
   "cell_type": "code",
   "execution_count": null,
   "metadata": {},
   "outputs": [],
   "source": []
  },
  {
   "cell_type": "markdown",
   "metadata": {},
   "source": [
    "# Reta"
   ]
  },
  {
   "cell_type": "markdown",
   "metadata": {},
   "source": [
    "## Modelo"
   ]
  },
  {
   "cell_type": "markdown",
   "metadata": {},
   "source": [
    "Qual o nome dessa equação $x^2+ 2x + 3 = 0$?\n",
    "\n",
    "Sabemos que ela é uma equação quadrática pois segue um modelo $ax^2+bx+c = 0$\n",
    "\n",
    "As retas também tem um modelo."
   ]
  },
  {
   "cell_type": "markdown",
   "metadata": {},
   "source": [
    "## Tipos de Equações\n",
    "\n",
    "|Nome|Modelo|Exemplo|\n",
    "|-|-|-|\n",
    "|Equação Geral da reta| $ax + by + c = 0$ | $2x + 3y + 1 = 0$|\n",
    "|Equação Reduzida da reta|$y = mx + n $ | $ y = 2x + 1$|\n",
    "\n",
    "Vejamos mais exemplos de equações de reta:\n",
    "\n",
    "- $x - 3y+3 = 0$\n",
    "- $-3x-y+10 = 0$\n",
    "- $y = \\dfrac{x}{3} +1 $\n",
    "- $y = 2x$\n",
    "- $ y = x $"
   ]
  },
  {
   "cell_type": "code",
   "execution_count": null,
   "metadata": {},
   "outputs": [],
   "source": []
  }
 ],
 "metadata": {
  "kernelspec": {
   "display_name": "SageMath 9.2",
   "language": "sage",
   "name": "sagemath"
  },
  "language_info": {
   "codemirror_mode": {
    "name": "ipython",
    "version": 3
   },
   "file_extension": ".py",
   "mimetype": "text/x-python",
   "name": "python",
   "nbconvert_exporter": "python",
   "pygments_lexer": "ipython3",
   "version": "3.7.7"
  }
 },
 "nbformat": 4,
 "nbformat_minor": 4
}
