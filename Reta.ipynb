{
 "cells": [
  {
   "cell_type": "markdown",
   "metadata": {},
   "source": [
    "# Reta"
   ]
  },
  {
   "cell_type": "markdown",
   "metadata": {},
   "source": [
    "## Modelo"
   ]
  },
  {
   "cell_type": "markdown",
   "metadata": {},
   "source": [
    "Qual o nome dessa equação $x^2+ 2x + 3 = 0$?\n",
    "\n",
    "Sabemos que ela é uma equação quadrática pois segue um modelo $ax^2+bx+c = 0$\n",
    "\n",
    "As retas também tem um modelo."
   ]
  },
  {
   "cell_type": "markdown",
   "metadata": {},
   "source": [
    "## Tipos de Equações\n",
    "\n",
    "|Nome|Modelo|Exemplo|\n",
    "|-|-|-|\n",
    "|Equação Geral da reta| $ax + by + c = 0$ | $2x + 3y + 1 = 0$|\n",
    "|Equação Reduzida da reta|$y = mx + n $ | $ y = 2x + 1$|\n",
    "\n",
    "Vejamos mais exemplos de equações de reta:\n",
    "\n",
    "- $x - 3y+3 = 0$\n",
    "- $-3x-y+10 = 0$\n",
    "- $y = \\dfrac{x}{3} +1 $\n",
    "- $y = 2x$\n",
    "- $ y = x $\n",
    "\n",
    "Não são equações que representam reta:\n",
    "\n",
    "- $ cos\\,x +y +1 = 0$\n",
    "- $ x^2 + y^2 - 8 = 0$\n",
    "- $ y = 2^x -1 $"
   ]
  },
  {
   "cell_type": "markdown",
   "metadata": {},
   "source": [
    "## Equação Geral da reta $ ax + by + c = 0$"
   ]
  },
  {
   "cell_type": "markdown",
   "metadata": {},
   "source": [
    "### Problema do tipo: Tal ponto pertence a reta?\n",
    "Como saber se um ponto $(x_a, y_a)$ pertence a reta $ax+by+c=0$.\n",
    "Procedimento:\n",
    "\n",
    "    1. Substituir o x da equação da reta por  x_a e substituir o y da equação por y_a ;\n",
    "    2. Verifique se a equação obtida é verdadeira;\n",
    "    3. Se for verdadeira, então o ponto pertence à reta. Caso contrário o ponto não pertence a reta;\n",
    "    \n",
    "**_Ex: Verifique se o ponto $\\textbf{P = (3,2)}$ pertence a reta s cuja equação é $\\textbf{x - 3y + 3 = 0}$_**"
   ]
  },
  {
   "cell_type": "markdown",
   "metadata": {},
   "source": [
    "### Problema do tipo: Faça o esboço dessa reta\n",
    "Para esboçar uma reta, precisamos de dois pontos. Então podemos supor valores para x ou para y, aplicarmos na equação dada e vê quais pontos satisfazem a equação da reta. (Sugestão use x = 0 e depois use y = 0).\n",
    "\n",
    "Procedimento:\n",
    "    \n",
    "    1. Suponha um valor para x e descubra o y;\n",
    "    2. Suponha um valor para y e descubra o x;\n",
    "    3. Com esses pontos no plano, já podemos traçar uma reta;\n",
    "    \n",
    "**_Ex: Esboce a reta do problema anterior._**\n",
    "\n",
    "|x|y|(x,y)|\n",
    "|-|-|-|\n",
    "|0|..|(0,.. )|\n",
    "|..|0|(..,0)| "
   ]
  },
  {
   "cell_type": "markdown",
   "metadata": {},
   "source": [
    "### Problema do tipo: Você possui dois pontos conhecidos. Determine a equação geral da reta que passa por esses dois pontos.\n",
    "\n",
    "Sejam os pontos dados $A = (x_a,y_a)\\, e\\, B = (x_b,y_b)$. Para termos uma reta, podemos pensar em 3 pontos colineares sendo o terceiro ponto de coordenadas $C = (x,y)$. Assim, como queremos que eles estejam na mesma reta, ou seja colineares, devemos aplicar a condição de alinhamento de três pontos.\n",
    "\n",
    " $$\\begin{vmatrix} x & y & 1\\\\x_a & y_a  & 1 \\\\ x_b& y_b & 1\\end{vmatrix}$$\n",
    " \n",
    "Procedimento:\n",
    "\n",
    "    1. Montar o determinante conforme o modelo acima de tal forma que seja igual a zero ( para que assim sejam colineares e termos uma reta)\n",
    "    2. Monte a equação no modelo da equação geral da reta.\n",
    " \n",
    "**_Ex: Obter a equação geral da reta r, que passa pelos pontos $A=(3, 1)$ e $B=(2, 4)$ e determinar os seus pontos de intersecção com os eixos $x$ e $y$._**"
   ]
  },
  {
   "cell_type": "code",
   "execution_count": null,
   "metadata": {},
   "outputs": [],
   "source": []
  }
 ],
 "metadata": {
  "kernelspec": {
   "display_name": "SageMath 9.2",
   "language": "sage",
   "name": "sagemath"
  },
  "language_info": {
   "codemirror_mode": {
    "name": "ipython",
    "version": 3
   },
   "file_extension": ".py",
   "mimetype": "text/x-python",
   "name": "python",
   "nbconvert_exporter": "python",
   "pygments_lexer": "ipython3",
   "version": "3.7.7"
  }
 },
 "nbformat": 4,
 "nbformat_minor": 4
}
