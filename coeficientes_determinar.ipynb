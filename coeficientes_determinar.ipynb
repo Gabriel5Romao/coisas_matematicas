{
 "cells": [
  {
   "cell_type": "markdown",
   "metadata": {},
   "source": [
    "## Método dos Coeficientes a se Determinar (Utilizando SageMath)\n",
    "\n",
    "Seja $y$ uma função de $t$, e uma equação diferencial definida na seguinte forma:\n",
    "\n",
    "$$\\begin{equation}\n",
    "y''(t) + p(t)y' + q(t)y = g(t)\n",
    "\\end{equation}$$\n",
    "\n",
    "Para que o sage reconheça uma derivada, uma função e igualdade, devemos utilizar de funções já embutidas. Segue a instrução para resolução de uma E.D.O.\n",
    "\n",
    "1. Defina as variáveis utilizando `var(\"x1,x2,x3,...\")` onde `x1,x2,x3,...` é cada uma das variáveis que você irá utilizar. Defina também as variáveis independentes.\n",
    "2. Se y é função de t, então escreva `y = function('y')(t)`\n",
    "3. Para derivar, usamos a função do Sage, `diff(função,variável,opcional:ordem_da_derivada)`\n",
    "4. Uma boa prática é guardar a equação diferencial em uma variável.\n",
    "5. Para resolver a equação diferencial utilize a função `desolve(equação_diferencial,variável_dependente,opcional:show_method=True)`"
   ]
  },
  {
   "cell_type": "markdown",
   "metadata": {},
   "source": [
    "Com o objetivo de fazer também o gráfico. Foi criada função `desolvep` que é utilizada da mesma maneira que a função `desolve`. Nela tem um código RegEx, que faz a substituição das constantes por 0, para fazer a plotagem."
   ]
  },
  {
   "cell_type": "code",
   "execution_count": 1,
   "metadata": {},
   "outputs": [],
   "source": [
    "import re\n",
    "\n",
    "def switch(text:str,switch_for=\"0\")-> str:\n",
    "    \"\"\"\n",
    "    Function to switch the constants in a result by a given number.\n",
    "    Parameters:\n",
    "        text: str of the discussion.\n",
    "        switch_for: the given number of type str.\n",
    "    Output:\n",
    "        String which the constants is equal the given number.\n",
    "    \"\"\"\n",
    "    \n",
    "    return re.sub(\"[_][K][0-9]\", str(switch_for), text)\n",
    "                         \n",
    "def desolvep(de:SR,dependent_variable:var,switch_for=\"0\")-> Graphics:\n",
    "    \"\"\"\n",
    "    Function which uses the built-in desolve sage function. Added the show method to print the result of desolve and\n",
    "    a simple plot to visualize the result.\n",
    "    Parameters:\n",
    "        de: A Symbolyc Ring which represents the differential equation.\n",
    "        dependent_variable: result in function fo the variable dependent_variable.\n",
    "        switch_for: the given number of type str.\n",
    "    Output:\n",
    "        A graphics 2d object\n",
    "    \"\"\"\n",
    "    result_method = desolve(de,dependent_variable,show_method=True)\n",
    "    if result_method[1] == \"variationofparameters\":\n",
    "        result_method[1] = \"Coeficientes a se Determinar\"\n",
    "    print(\"A solução geral da equação é: \")\n",
    "    show(result_method[0])\n",
    "    print(f\"Pelo método de {result_method[1]}\")\n",
    "    text = str(desolve(de,dependent_variable,show_method=True)[0])\n",
    "    p = plot(SR(switch(text,switch_for)),(-5,5),color=\"red\")\n",
    "    return show(p,figsize=(3))"
   ]
  },
  {
   "cell_type": "markdown",
   "metadata": {},
   "source": [
    "**EX:** Encontre a solução geral da equação $y'' + y' = 2 +t^2$"
   ]
  },
  {
   "cell_type": "code",
   "execution_count": 3,
   "metadata": {
    "scrolled": true
   },
   "outputs": [
    {
     "name": "stdout",
     "output_type": "stream",
     "text": [
      "A solução geral da equação é: \n"
     ]
    },
    {
     "data": {
      "text/html": [
       "<html><script type=\"math/tex; mode=display\">\\newcommand{\\Bold}[1]{\\mathbf{#1}}\\frac{1}{3} \\, t^{3} - t^{2} + K_{2} e^{\\left(-t\\right)} + K_{1} + 4 \\, t - 4</script></html>"
      ],
      "text/latex": [
       "\\begin{math}\n",
       "\\newcommand{\\Bold}[1]{\\mathbf{#1}}\\frac{1}{3} \\, t^{3} - t^{2} + K_{2} e^{\\left(-t\\right)} + K_{1} + 4 \\, t - 4\n",
       "\\end{math}"
      ],
      "text/plain": [
       "1/3*t^3 - t^2 + _K2*e^(-t) + _K1 + 4*t - 4"
      ]
     },
     "metadata": {},
     "output_type": "display_data"
    },
    {
     "name": "stdout",
     "output_type": "stream",
     "text": [
      "Pelo método de Coeficientes a se Determinar\n"
     ]
    },
    {
     "data": {
      "image/png": "[encoded data removed]",
      "text/plain": [
       "Graphics object consisting of 1 graphics primitive"
      ]
     },
     "metadata": {},
     "output_type": "display_data"
    }
   ],
   "source": [
    "var(\"y,t\")\n",
    "y = function('y')(t)\n",
    "dy = diff(y,t)\n",
    "dy2 = diff(dy,t)\n",
    "de = dy2 + dy == 2 + t^2\n",
    "desolvep(de,y)"
   ]
  },
  {
   "cell_type": "code",
   "execution_count": null,
   "metadata": {},
   "outputs": [],
   "source": []
  }
 ],
 "metadata": {
  "kernelspec": {
   "display_name": "SageMath 9.2",
   "language": "sage",
   "name": "sagemath"
  },
  "language_info": {
   "codemirror_mode": {
    "name": "ipython",
    "version": 3
   },
   "file_extension": ".py",
   "mimetype": "text/x-python",
   "name": "python",
   "nbconvert_exporter": "python",
   "pygments_lexer": "ipython3",
   "version": "3.7.7"
  }
 },
 "nbformat": 4,
 "nbformat_minor": 4
}
