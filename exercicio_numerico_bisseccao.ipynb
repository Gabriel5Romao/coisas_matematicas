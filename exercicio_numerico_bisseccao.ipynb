{
 "cells": [
  {
   "cell_type": "markdown",
   "metadata": {},
   "source": [
    "# Cálculo numérico - Método da Bisseção"
   ]
  },
  {
   "cell_type": "markdown",
   "metadata": {},
   "source": [
    "Inicialmente definimos um generator, pra consumo mínimo de memória. Ele serve para trabalhar com as iterações feitas na função `bissection()`. Ele tem o objetivo de contar em qual índice da iteração o cálculo se encontra."
   ]
  },
  {
   "cell_type": "code",
   "execution_count": 1,
   "metadata": {},
   "outputs": [],
   "source": [
    "counter = ( int for int in range(100000000))"
   ]
  },
  {
   "cell_type": "markdown",
   "metadata": {},
   "source": [
    "A função `mid()` tem por objetivo de retornar o ponto médio do intervalo."
   ]
  },
  {
   "cell_type": "code",
   "execution_count": 2,
   "metadata": {},
   "outputs": [],
   "source": [
    "def mid(interval):\n",
    "    \"\"\"\n",
    "        Return a float number with the medium point of the interval.\n",
    "        Parameters:\n",
    "            interval: List with the interval of the context.\n",
    "    \"\"\"\n",
    "    return sum(interval)/2"
   ]
  },
  {
   "cell_type": "markdown",
   "metadata": {},
   "source": [
    "A função `check_interval()` serve para verificar se os intervalos informados são de interesse do método da bisseção, i.e. sendo $[a,b]$ esse intervalo, então ele verifica se $f(a)$ e $f(b)$ tem sinais contrários."
   ]
  },
  {
   "cell_type": "code",
   "execution_count": 3,
   "metadata": {},
   "outputs": [],
   "source": [
    "def check_interval(function,interval):\n",
    "    \"\"\"\n",
    "        Check if the function in the extremum of intervals, can be used on the bissection method. Return a boolean.\n",
    "        Parameters:\n",
    "            function : Function in the context.\n",
    "            interval : List with the interval of the context.\n",
    "    \"\"\"\n",
    "    if function(interval[0])*function(interval[1]) < 0:\n",
    "        return True\n",
    "    else:\n",
    "        return False\n"
   ]
  },
  {
   "cell_type": "markdown",
   "metadata": {},
   "source": [
    "A função `bissection()` é o método da bisseção em si. Consiste em verificar se no intervalo existe uma possível raiz para a função, que é contínua, e então calcula a imagem do ponto médio $f(x_m)$ do intervalo e verifica se com relação aos intervalos informados, $f(x_m)$ possui sinal igual a algum dos intervalos? Em caso positivo, então esse intervalo é substituído por $x_m$, em seguida esse processo se repete até chegar uma aproximação aceitável."
   ]
  },
  {
   "cell_type": "code",
   "execution_count": 4,
   "metadata": {},
   "outputs": [],
   "source": [
    "def bissection(function, interval, n_iterations):\n",
    "    \"\"\"\n",
    "        Find a root for a  function by the bissection method.\n",
    "        Parameters:\n",
    "            function : Explicit function to calculate your root by the bissection method. Needs to be a function.\n",
    "            interval : List with 2 elements. The left one is the initial point, and the other is the final point. First verify\n",
    "            n_iterations : Integer number with the iteration number.\n",
    "\n",
    "    \"\"\"\n",
    "    if n_iterations>0:\n",
    "        if check_interval(function,interval):\n",
    "            \n",
    "            image_xi = function(mid(interval))\n",
    "            print(f\"The value of x_{next(counter)+1} = {mid(interval)}  applied on the function is {n(image_xi)}.\")\n",
    "            \n",
    "            if function(interval[0])*image_xi > 0:\n",
    "                interval[0] = mid(interval)\n",
    "            else :\n",
    "                interval[1] = mid(interval)\n",
    "\n",
    "            bissection(function,interval,n_iterations-1)\n",
    "                \n",
    "        else:\n",
    "            print(\"Sorry, but this interval can't be applied.\")"
   ]
  },
  {
   "cell_type": "code",
   "execution_count": 5,
   "metadata": {},
   "outputs": [
    {
     "name": "stdout",
     "output_type": "stream",
     "text": [
      "The value of x_1 = 1/2  applied on the function is -1.18750000000000.\n",
      "The value of x_2 = 3/4  applied on the function is -0.589843750000000.\n",
      "The value of x_3 = 7/8  applied on the function is 0.0510253906250000.\n",
      "The value of x_4 = 13/16  applied on the function is -0.303939819335938.\n",
      "The value of x_5 = 27/32  applied on the function is -0.135573387145996.\n",
      "The value of x_6 = 55/64  applied on the function is -0.0446147322654724.\n",
      "The value of x_7 = 111/128  applied on the function is 0.00261235609650612.\n",
      "The value of x_8 = 221/256  applied on the function is -0.0211484541650862.\n"
     ]
    }
   ],
   "source": [
    "bissection(lambda x: x^4+ 2*x^3-x-1,[0,1],8)"
   ]
  }
 ],
 "metadata": {
  "kernelspec": {
   "display_name": "SageMath 9.2",
   "language": "sage",
   "name": "sagemath"
  },
  "language_info": {
   "codemirror_mode": {
    "name": "ipython",
    "version": 3
   },
   "file_extension": ".py",
   "mimetype": "text/x-python",
   "name": "python",
   "nbconvert_exporter": "python",
   "pygments_lexer": "ipython3",
   "version": "3.7.7"
  }
 },
 "nbformat": 4,
 "nbformat_minor": 4
}
