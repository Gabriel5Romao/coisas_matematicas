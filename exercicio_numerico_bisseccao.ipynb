{
 "cells": [
  {
   "cell_type": "markdown",
   "metadata": {},
   "source": [
    "# Cálculo numérico - Método da Bisseção"
   ]
  },
  {
   "cell_type": "markdown",
   "metadata": {},
   "source": [
    "Para implementarmos a lógica do Método da Bisseção, criamos funções que calculam o ponto médio do intervalo, checa se no intervalo passado existe a possibilidade de raiz e por fim, de posse dessas informações aplicamos o método da bisseção."
   ]
  },
  {
   "cell_type": "markdown",
   "metadata": {},
   "source": [
    "A função `mid()` tem por objetivo de retornar o ponto médio do intervalo."
   ]
  },
  {
   "cell_type": "code",
   "execution_count": 1,
   "metadata": {},
   "outputs": [],
   "source": [
    "def mid(interval):\n",
    "    \"\"\"\n",
    "        Return a float number with the medium point of the interval.\n",
    "        Parameters:\n",
    "            interval: List with the interval of the context.\n",
    "    \"\"\"\n",
    "    return sum(interval)/2"
   ]
  },
  {
   "cell_type": "markdown",
   "metadata": {},
   "source": [
    "A função `check_interval()` serve para verificar se os intervalos informados são de interesse do método da bisseção, i.e. sendo $[a,b]$ esse intervalo, então ele verifica se $f(a)$ e $f(b)$ tem sinais contrários."
   ]
  },
  {
   "cell_type": "code",
   "execution_count": 2,
   "metadata": {},
   "outputs": [],
   "source": [
    "def check_interval(function,interval):\n",
    "    \"\"\"\n",
    "        Check if the function in the extremum of intervals, can be used on the bissection method. Return a boolean.\n",
    "        Parameters:\n",
    "            function : Function in the context.\n",
    "            interval : List with the interval of the context.\n",
    "    \"\"\"\n",
    "    if function(interval[0])*function(interval[1]) < 0:\n",
    "        return True\n",
    "    else:\n",
    "        return False\n"
   ]
  },
  {
   "cell_type": "markdown",
   "metadata": {},
   "source": [
    "A função `_bissection()` é o método da bisseção em si. Consiste em verificar se no intervalo existe uma possível raiz para a função, que é contínua, e então calcula a imagem do ponto médio $f(x_m)$ do intervalo e verifica se com relação aos intervalos informados, $f(x_m)$ possui sinal igual a algum dos intervalos? Em caso positivo, então esse intervalo é substituído por $x_m$, em seguida esse processo se repete até chegar uma aproximação aceitável. Essa função carrega toda a lógica do método, já a função `bissection()` é a que deve ser usada pelo usuário, pois ela insere o recurso de fazer a plotagem do gráfico da função, da raiz e do último valor da raiz encontrado e também garante uma bela saída na célula de resultado."
   ]
  },
  {
   "cell_type": "code",
   "execution_count": 3,
   "metadata": {},
   "outputs": [],
   "source": [
    "def _bissection(function, interval, n_iterations,index):\n",
    "    \"\"\"\n",
    "        Find a root for a  function by the bissection method.\n",
    "        Parameters:\n",
    "            function : Explicit function to calculate your root by the bissection method. Needs to be a function.\n",
    "            interval : List with 2 elements. The left one is the initial point, and the other is the final point. First verify\n",
    "            n_iterations : Integer number with the iteration number.\n",
    "            index : Integer number to get out a pretty print.\n",
    "\n",
    "    \"\"\"\n",
    "    \n",
    "    image_xi = function(mid(interval))\n",
    "    print(f\"The value of x_{index} = {n(mid(interval))}  applied on the function is {n(image_xi)}.\")\n",
    "\n",
    "    if function(interval[0])*image_xi > 0:\n",
    "        interval[0] = mid(interval)\n",
    "    else :\n",
    "        interval[1] = mid(interval)\n",
    "    \n",
    "    "
   ]
  },
  {
   "cell_type": "code",
   "execution_count": 4,
   "metadata": {},
   "outputs": [],
   "source": [
    "def bissection(function, interval, n_iterations, to_plot=\"True\"):\n",
    "    \"\"\"\n",
    "        This function is analog to the _bissection() function. Use this function instead of _bissection() method.\n",
    "        Parameters:\n",
    "            function : Explicit function to calculate your root by the bissection method. Needs to be a function.\n",
    "            interval : List with 2 elements. The left one is the initial point, and the other is the final point. First verify\n",
    "            n_iterations : Integer number with the iteration number.\n",
    "            index : Integer number to get out a pretty print.\n",
    "\n",
    "    \"\"\"\n",
    "    if to_plot:\n",
    "        g = plot(function,(interval[0],interval[1]),color =\"red\")\n",
    "    if check_interval(function,interval):\n",
    "        for index in range(1,n_iterations+1):\n",
    "            _bissection(function, interval, n_iterations,index)\n",
    "    else:\n",
    "        print(\"Sorry, but this interval can't be applied.\")\n",
    "    if to_plot:\n",
    "        p = point((mid(interval),0),color=\"blue\",size=30)\n",
    "        show(g+p)\n",
    "        \n",
    "    "
   ]
  },
  {
   "cell_type": "code",
   "execution_count": 5,
   "metadata": {},
   "outputs": [
    {
     "name": "stdout",
     "output_type": "stream",
     "text": [
      "The value of x_1 = 0.500000000000000  applied on the function is -1.18750000000000.\n",
      "The value of x_2 = 0.750000000000000  applied on the function is -0.589843750000000.\n",
      "The value of x_3 = 0.875000000000000  applied on the function is 0.0510253906250000.\n",
      "The value of x_4 = 0.812500000000000  applied on the function is -0.303939819335938.\n",
      "The value of x_5 = 0.843750000000000  applied on the function is -0.135573387145996.\n",
      "The value of x_6 = 0.859375000000000  applied on the function is -0.0446147322654724.\n",
      "The value of x_7 = 0.867187500000000  applied on the function is 0.00261235609650612.\n",
      "The value of x_8 = 0.863281250000000  applied on the function is -0.0211484541650862.\n"
     ]
    },
    {
     "data": {
      "image/png": "[encoded data removed]",
      "text/plain": [
       "Graphics object consisting of 2 graphics primitives"
      ]
     },
     "metadata": {},
     "output_type": "display_data"
    }
   ],
   "source": [
    "bissection(lambda x: x^4+ 2*x^3-x-1,[0,1],8)"
   ]
  },
  {
   "cell_type": "code",
   "execution_count": null,
   "metadata": {},
   "outputs": [],
   "source": []
  }
 ],
 "metadata": {
  "kernelspec": {
   "display_name": "SageMath 9.2",
   "language": "sage",
   "name": "sagemath"
  },
  "language_info": {
   "codemirror_mode": {
    "name": "ipython",
    "version": 3
   },
   "file_extension": ".py",
   "mimetype": "text/x-python",
   "name": "python",
   "nbconvert_exporter": "python",
   "pygments_lexer": "ipython3",
   "version": "3.7.7"
  }
 },
 "nbformat": 4,
 "nbformat_minor": 4
}
